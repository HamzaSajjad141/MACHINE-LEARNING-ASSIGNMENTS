{
  "nbformat": 4,
  "nbformat_minor": 0,
  "metadata": {
    "colab": {
      "provenance": []
    },
    "kernelspec": {
      "name": "python3",
      "display_name": "Python 3"
    },
    "language_info": {
      "name": "python"
    }
  },
  "cells": [
    {
      "cell_type": "code",
      "source": [
        "import numpy as np\n",
        "\n",
        "# Load data\n",
        "X_train = np.load('training_set.npy')  # Assuming you have preprocessed image data and saved as numpy array\n",
        "y_train = np.load('training_labels.npy')\n",
        "\n",
        "X_test = np.load('test_set.npy')\n",
        "y_test = np.load('test_labels.npy')\n",
        "\n",
        "\n"
      ],
      "metadata": {
        "id": "2FkRVso-MTg1"
      },
      "execution_count": null,
      "outputs": []
    },
    {
      "cell_type": "code",
      "source": [
        "from keras.applications.vgg16 import preprocess_input as preprocess_input_vgg\n",
        "from keras.applications.resnet50 import preprocess_input as preprocess_input_resnet\n",
        "from keras.preprocessing import image\n",
        "from keras.utils import to_categorical\n",
        "\n",
        "def load_data(file_path, imageset_file, labels_file):\n",
        "    # Load class names\n",
        "    with open('class_names.txt', 'r') as file:\n",
        "        class_names = [line.strip() for line in file.readlines()]\n",
        "\n",
        "    # Load image file names and corresponding labels\n",
        "    with open(imageset_file, 'r') as file:\n",
        "        image_files = [line.strip() for line in file.readlines()]\n",
        "\n",
        "    with open(labels_file, 'r') as file:\n",
        "        labels = [int(line.strip()) for line in file.readlines()]\n",
        "\n",
        "    # Convert labels to one-hot encoding\n",
        "    y = to_categorical(labels, num_classes=len(class_names))\n",
        "\n",
        "    # Load and preprocess images\n",
        "    X = []\n",
        "    for img_file in image_files:\n",
        "        img_path = f'{file_path}/{img_file}'\n",
        "        img = image.load_img(img_path, target_size=(224, 224))\n",
        "        img_array = image.img_to_array(img)\n",
        "        img_array = np.expand_dims(img_array, axis=0)\n",
        "        img_array = preprocess_input_vgg(img_array)  # Use VGG preprocessing for VGG-16\n",
        "        X.append(img_array)\n",
        "\n",
        "    X = np.vstack(X)\n",
        "\n",
        "    return X, y\n",
        "\n",
        "# Load data for VGG-16\n",
        "X_train_vgg, y_train_vgg = load_data('training_set', 'imageset_train.txt', 'training_labels.txt')\n",
        "X_test_vgg, y_test_vgg = load_data('test_set', 'imageset_test.txt', 'test_labels.txt')\n",
        "\n",
        "# Load data for ResNet50\n",
        "X_train_resnet, y_train_resnet = load_data('training_set', 'imageset_train.txt', 'training_labels.txt')\n",
        "X_test_resnet, y_test_resnet = load_data('test_set', 'imageset_test.txt', 'test_labels.txt')\n"
      ],
      "metadata": {
        "id": "3P-ZslS9MZ9m"
      },
      "execution_count": null,
      "outputs": []
    }
  ]
}