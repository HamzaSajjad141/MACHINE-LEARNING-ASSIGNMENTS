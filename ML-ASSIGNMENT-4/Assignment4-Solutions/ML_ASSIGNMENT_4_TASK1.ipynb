{
  "nbformat": 4,
  "nbformat_minor": 0,
  "metadata": {
    "colab": {
      "provenance": []
    },
    "kernelspec": {
      "name": "python3",
      "display_name": "Python 3"
    },
    "language_info": {
      "name": "python"
    }
  },
  "cells": [
    {
      "cell_type": "markdown",
      "source": [
        "**PART A**"
      ],
      "metadata": {
        "id": "lA1tpj7pzjnz"
      }
    },
    {
      "cell_type": "code",
      "source": [
        "import pandas as pd\n",
        "import numpy as np\n",
        "import matplotlib.pyplot as plt\n",
        "\n",
        "# Define the sigmoid activation function\n",
        "def sigmoid(x):\n",
        "    return 1 / (1 + np.exp(-x))\n",
        "\n",
        "# Define the derivative of the sigmoid function\n",
        "def sigmoid_derivative(x):\n",
        "    return x * (1 - x)\n",
        "\n",
        "# Define the dataset\n",
        "data = pd.DataFrame([\n",
        "    [0, 0, 0, 1, 0, 1],\n",
        "    [1, 0, 0, 0, 1, 1],\n",
        "    [0, 1, 0, 1, 1, 0],\n",
        "    [0, 0, 1, 1, 1, 0],\n",
        "    [1, 1, 0, 0, 0, 0],\n",
        "    [1, 0, 1, 0, 1, 1],\n",
        "    [0, 1, 1, 0, 1, 0],\n",
        "    [1, 1, 1, 0, 0, 1],\n",
        "    [0, 0, 0, 0, 1, 0],\n",
        "    [0, 0, 1, 0, 0, 1],\n",
        "    [0, 1, 1, 1, 0, 1],\n",
        "    [1, 1, 1, 1, 0, 1],\n",
        "    [0, 0, 0, 0, 0, 0],\n",
        "    [0, 1, 1, 1, 1, 1],\n",
        "    [1, 1, 1, 1, 1, 1]],\n",
        "    columns=['X1', 'X2', 'X3', 'X4', 'X5', 'Y'])\n",
        "\n",
        "# Split the dataset into features (X) and target variable (y)\n",
        "X = data[['X1', 'X2', 'X3', 'X4', 'X5']].values\n",
        "y = data['Y'].values.reshape(-1, 1)\n",
        "\n",
        "# Set random seed for reproducibility\n",
        "np.random.seed(42)\n",
        "\n",
        "# Initialize weights with random values\n",
        "input_size = X.shape[1]\n",
        "hidden_size = 3\n",
        "output_size = 1\n",
        "\n",
        "weights_input_hidden = np.random.rand(input_size, hidden_size)\n",
        "weights_hidden_output = np.random.rand(hidden_size, output_size)\n",
        "\n",
        "# Training parameters\n",
        "learning_rate = 0.00001\n",
        "epochs = 100000\n",
        "\n",
        "# Lists to store epoch and loss values\n",
        "epoch_list = []\n",
        "loss_list = []\n",
        "\n",
        "# Training the neural network\n",
        "for epoch in range(epochs):\n",
        "    # Forward pass\n",
        "    hidden_layer_input = np.dot(X, weights_input_hidden)\n",
        "    hidden_layer_output = sigmoid(hidden_layer_input)\n",
        "\n",
        "    output_layer_input = np.dot(hidden_layer_output, weights_hidden_output)\n",
        "    predicted_output = sigmoid(output_layer_input)\n",
        "\n",
        "    # Calculate the error\n",
        "    error = y - predicted_output\n",
        "\n",
        "    # Backpropagation\n",
        "    output_error = error * sigmoid_derivative(predicted_output)\n",
        "    hidden_layer_error = output_error.dot(weights_hidden_output.T) * sigmoid_derivative(hidden_layer_output)\n",
        "\n",
        "    # Update weights\n",
        "    weights_hidden_output += hidden_layer_output.T.dot(output_error) * learning_rate\n",
        "    weights_input_hidden += X.T.dot(hidden_layer_error) * learning_rate\n",
        "\n",
        "    # Calculate and store the epoch loss\n",
        "    epoch_loss = np.mean(np.abs(error))\n",
        "    epoch_list.append(epoch)\n",
        "    loss_list.append(epoch_loss)\n",
        "\n",
        "    # Print the epoch loss every 1000 epochs\n",
        "    if epoch % 1000 == 0:\n",
        "        print(f\"Epoch {epoch}, Loss: {epoch_loss}\")\n",
        "\n",
        "# Plotting the loss over epochs\n",
        "plt.plot(epoch_list, loss_list)\n",
        "plt.title('Loss Over Epochs')\n",
        "plt.xlabel('Epoch')\n",
        "plt.ylabel('Loss')\n",
        "plt.show()\n",
        "\n",
        "# Testing the trained model\n",
        "test_input = np.array([[0, 0, 1, 1, 1]])\n",
        "hidden_layer_input = np.dot(test_input, weights_input_hidden)\n",
        "hidden_layer_output = sigmoid(hidden_layer_input)\n",
        "\n",
        "output_layer_input = np.dot(hidden_layer_output, weights_hidden_output)\n",
        "predicted_output = sigmoid(output_layer_input)\n",
        "\n",
        "print(\"Predicted Output:\", predicted_output)\n"
      ],
      "metadata": {
        "colab": {
          "base_uri": "https://localhost:8080/",
          "height": 1000
        },
        "id": "xODkr4Lzzwb3",
        "outputId": "08133cb6-ad52-4688-d2e2-9409c418830e"
      },
      "execution_count": 207,
      "outputs": [
        {
          "output_type": "stream",
          "name": "stdout",
          "text": [
            "Epoch 0, Loss: 0.45230604979019934\n",
            "Epoch 1000, Loss: 0.4524766661887873\n",
            "Epoch 2000, Loss: 0.45264550056551184\n",
            "Epoch 3000, Loss: 0.452812556833826\n",
            "Epoch 4000, Loss: 0.4529778393315669\n",
            "Epoch 5000, Loss: 0.4531413528082471\n",
            "Epoch 6000, Loss: 0.453303102412422\n",
            "Epoch 7000, Loss: 0.45346309367914184\n",
            "Epoch 8000, Loss: 0.4536213325175023\n",
            "Epoch 9000, Loss: 0.45377782519830095\n",
            "Epoch 10000, Loss: 0.45393257834181117\n",
            "Epoch 11000, Loss: 0.4540855989056823\n",
            "Epoch 12000, Loss: 0.45423689417297164\n",
            "Epoch 13000, Loss: 0.4543864717403189\n",
            "Epoch 14000, Loss: 0.4545343395062709\n",
            "Epoch 15000, Loss: 0.4546805056597591\n",
            "Epoch 16000, Loss: 0.45482497866873967\n",
            "Epoch 17000, Loss: 0.45496776726900134\n",
            "Epoch 18000, Loss: 0.45510888045314407\n",
            "Epoch 19000, Loss: 0.45524832745973426\n",
            "Epoch 20000, Loss: 0.4553861177626427\n",
            "Epoch 21000, Loss: 0.4555222610605646\n",
            "Epoch 22000, Loss: 0.4556567672667287\n",
            "Epoch 23000, Loss: 0.4557896464987972\n",
            "Epoch 24000, Loss: 0.45592090906895844\n",
            "Epoch 25000, Loss: 0.4560505654742135\n",
            "Epoch 26000, Loss: 0.4561786263868629\n",
            "Epoch 27000, Loss: 0.45630510264518803\n",
            "Epoch 28000, Loss: 0.4564300052443341\n",
            "Epoch 29000, Loss: 0.4565533453273925\n",
            "Epoch 30000, Loss: 0.45667513417668393\n",
            "Epoch 31000, Loss: 0.4567953832052416\n",
            "Epoch 32000, Loss: 0.4569141039484958\n",
            "Epoch 33000, Loss: 0.4570313080561584\n",
            "Epoch 34000, Loss: 0.45714700728430663\n",
            "Epoch 35000, Loss: 0.45726121348766596\n",
            "Epoch 36000, Loss: 0.4573739386120909\n",
            "Epoch 37000, Loss: 0.45748519468724214\n",
            "Epoch 38000, Loss: 0.4575949938194588\n",
            "Epoch 39000, Loss: 0.4577033481848246\n",
            "Epoch 40000, Loss: 0.45781027002242547\n",
            "Epoch 41000, Loss: 0.4579157716277973\n",
            "Epoch 42000, Loss: 0.4580198653465613\n",
            "Epoch 43000, Loss: 0.45812256356824577\n",
            "Epoch 44000, Loss: 0.4582238787202904\n",
            "Epoch 45000, Loss: 0.4583238232622333\n",
            "Epoch 46000, Loss: 0.45842240968007475\n",
            "Epoch 47000, Loss: 0.4585196504808184\n",
            "Epoch 48000, Loss: 0.4586155581871852\n",
            "Epoch 49000, Loss: 0.4587101453324988\n",
            "Epoch 50000, Loss: 0.4588034244557383\n",
            "Epoch 51000, Loss: 0.45889540809675616\n",
            "Epoch 52000, Loss: 0.45898610879165896\n",
            "Epoch 53000, Loss: 0.45907553906834775\n",
            "Epoch 54000, Loss: 0.45916371144221313\n",
            "Epoch 55000, Loss: 0.45925063841198566\n",
            "Epoch 56000, Loss: 0.45933633245573563\n",
            "Epoch 57000, Loss: 0.4594208060270215\n",
            "Epoch 58000, Loss: 0.4595040715511807\n",
            "Epoch 59000, Loss: 0.45958614142176385\n",
            "Epoch 60000, Loss: 0.45966702799710596\n",
            "Epoch 61000, Loss: 0.4597467435970337\n",
            "Epoch 62000, Loss: 0.4598253004997045\n",
            "Epoch 63000, Loss: 0.4599027109385748\n",
            "Epoch 64000, Loss: 0.45997898709949553\n",
            "Epoch 65000, Loss: 0.46005414111792897\n",
            "Epoch 66000, Loss: 0.4601281850762875\n",
            "Epoch 67000, Loss: 0.4602011310013892\n",
            "Epoch 68000, Loss: 0.4602729908620276\n",
            "Epoch 69000, Loss: 0.4603437765666526\n",
            "Epoch 70000, Loss: 0.4604134999611614\n",
            "Epoch 71000, Loss: 0.4604821728267932\n",
            "Epoch 72000, Loss: 0.4605498068781289\n",
            "Epoch 73000, Loss: 0.46061641376118895\n",
            "Epoch 74000, Loss: 0.4606820050516305\n",
            "Epoch 75000, Loss: 0.4607465922530384\n",
            "Epoch 76000, Loss: 0.4608101867953083\n",
            "Epoch 77000, Loss: 0.4608728000331192\n",
            "Epoch 78000, Loss: 0.4609344432444937\n",
            "Epoch 79000, Loss: 0.46099512762944156\n",
            "Epoch 80000, Loss: 0.46105486430868575\n",
            "Epoch 81000, Loss: 0.4611136643224681\n",
            "Epoch 82000, Loss: 0.4611715386294313\n",
            "Epoch 83000, Loss: 0.4612284981055763\n",
            "Epoch 84000, Loss: 0.46128455354329195\n",
            "Epoch 85000, Loss: 0.4613397156504544\n",
            "Epoch 86000, Loss: 0.4613939950495948\n",
            "Epoch 87000, Loss: 0.4614474022771324\n",
            "Epoch 88000, Loss: 0.46149994778267117\n",
            "Epoch 89000, Loss: 0.4615516419283583\n",
            "Epoch 90000, Loss: 0.4616024949883022\n",
            "Epoch 91000, Loss: 0.4616525171480473\n",
            "Epoch 92000, Loss: 0.4617017185041046\n",
            "Epoch 93000, Loss: 0.46175010906353625\n",
            "Epoch 94000, Loss: 0.46179769874359167\n",
            "Epoch 95000, Loss: 0.4618444973713928\n",
            "Epoch 96000, Loss: 0.461890514683669\n",
            "Epoch 97000, Loss: 0.461935760326537\n",
            "Epoch 98000, Loss: 0.4619802438553255\n",
            "Epoch 99000, Loss: 0.4620239747344444\n"
          ]
        },
        {
          "output_type": "display_data",
          "data": {
            "text/plain": [
              "<Figure size 640x480 with 1 Axes>"
            ],
            "image/png": "[encoded data removed]"
          },
          "metadata": {}
        },
        {
          "output_type": "stream",
          "name": "stdout",
          "text": [
            "Predicted Output: [[0.64938434]]\n"
          ]
        }
      ]
    },
    {
      "cell_type": "markdown",
      "source": [
        "**PART B**"
      ],
      "metadata": {
        "id": "-elGx2JZzrEU"
      }
    },
    {
      "cell_type": "markdown",
      "source": [
        "In the provided code (task a), The architecture consists of:\n",
        "\n",
        "**Input Layer:** 5 input neurons corresponding to the features (X1, X2, X3, X4, X5).\n",
        "**Hidden Layer:** 3 neurons in the hidden layer. The choice of the number of neurons in the hidden layer is somewhat arbitrary and depends on the specific problem. It is a hyperparameter that can be tuned during the model development process. In this case, 3 neurons are chosen.\n",
        "**Output Layer:** 1 neuron corresponding to the predicted output (Y).\n",
        "The choice of this architecture involves some general considerations:\n",
        "\n",
        "**Input Layer Size:** The input layer size is determined by the number of features in the dataset. In this case, there are 5 features, so the input layer has 5 neurons.\n",
        "\n",
        "**Hidden Layer Size:** The number of neurons in the hidden layer is a hyperparameter. Too few neurons may result in the network not capturing complex patterns in the data, while too many neurons may lead to overfitting. In this case, 3 neurons are chosen.\n",
        "\n",
        "**Output Layer Size:** Since the problem involves binary classification (Y = 0 or 1), a single neuron in the output layer is sufficient.\n",
        "\n",
        "The choice of the activation function (sigmoid) in both the hidden and output layers is common for binary classification problems, where the goal is to produce outputs between 0 and 1."
      ],
      "metadata": {
        "id": "Behw240F8gfX"
      }
    },
    {
      "cell_type": "markdown",
      "source": [
        "**PART C**"
      ],
      "metadata": {
        "id": "OjhwLxUJzfI0"
      }
    },
    {
      "cell_type": "code",
      "execution_count": 292,
      "metadata": {
        "id": "On-r9Myvfg3f"
      },
      "outputs": [],
      "source": [
        "import pandas as pd\n",
        "import numpy as np\n",
        "import matplotlib.pyplot as plt"
      ]
    },
    {
      "cell_type": "code",
      "source": [
        "# Define the dataset\n",
        "data = pd.DataFrame([\n",
        "    [0, 0, 0, 1, 0, 1],\n",
        "    [1, 0, 0, 0, 1, 1],\n",
        "    [0, 1, 0, 1, 1, 0],\n",
        "    [0, 0, 1, 1, 1, 0],\n",
        "    [1, 1, 0, 0, 0, 0],\n",
        "    [1, 0, 1, 0, 1, 1],\n",
        "    [0, 1, 1, 0, 1, 0],\n",
        "    [1, 1, 1, 0, 0, 1],\n",
        "    [0, 0, 0, 0, 1, 0],\n",
        "    [0, 0, 1, 0, 0, 1],\n",
        "    [0, 1, 1, 1, 0, 1],\n",
        "    [1, 1, 1, 1, 0, 1],\n",
        "    [0, 0, 0, 0, 0, 0],\n",
        "    [0, 1, 1, 1, 1, 1],\n",
        "    [1, 1, 1, 1, 1, 1]],\n",
        "    columns=['X1', 'X2', 'X3', 'X4', 'X5', 'Y'])"
      ],
      "metadata": {
        "id": "mCDw8wlHhD4y"
      },
      "execution_count": 293,
      "outputs": []
    },
    {
      "cell_type": "code",
      "source": [
        "# Split the dataset into features (X) and target variable (Y)\n",
        "X = data.iloc[:, :-1].values\n",
        "Y = data.iloc[:, -1].values.reshape(-1, 1)"
      ],
      "metadata": {
        "id": "xUyZWNcIjDRv"
      },
      "execution_count": 294,
      "outputs": []
    },
    {
      "cell_type": "code",
      "source": [
        "# Split the dataset into training and testing sets\n",
        "X_train, X_test = X[:10], X[10:]\n",
        "Y_train, Y_test = Y[:10], Y[10:]"
      ],
      "metadata": {
        "id": "LzJDbZM9jKYV"
      },
      "execution_count": 295,
      "outputs": []
    },
    {
      "cell_type": "code",
      "source": [
        "def sigmoid(x):\n",
        "    return 1 / (1 + np.exp(-x))\n",
        "\n",
        "def tanh(x):\n",
        "    return np.tanh(x)\n",
        "\n",
        "def relu(x):\n",
        "    return np.maximum(0, x)\n",
        "\n",
        "def leaky_relu(x, alpha=0.01):\n",
        "    return np.where(x > 0, x, alpha * x)\n",
        "\n",
        "def param_relu(x, alpha=0.01):\n",
        "    return np.where(x > 0, x, alpha * x)\n",
        "\n",
        "def softmax(x):\n",
        "    exp_x = np.exp(x - np.max(x))\n",
        "    return exp_x / exp_x.sum(axis=0, keepdims=True)\n",
        "\n",
        "def sigmoid_derivative(x):\n",
        "    return x * (1 - x)\n",
        "\n",
        "def tanh_derivative(x):\n",
        "    return 1 - x**2\n",
        "\n",
        "def relu_derivative(x):\n",
        "    return np.where(x > 0, 1, 0)\n",
        "\n",
        "def leaky_relu_derivative(x, alpha=0.01):\n",
        "    return np.where(x > 0, 1, alpha)\n",
        "\n",
        "def param_relu_derivative(x, alpha=0.01):\n",
        "    return np.where(x > 0, 1, alpha)"
      ],
      "metadata": {
        "id": "xgHOxEAhjQ2u"
      },
      "execution_count": 297,
      "outputs": []
    },
    {
      "cell_type": "code",
      "source": [
        "# Neural network class\n",
        "class NeuralNetwork:\n",
        "    def __init__(self, input_size, hidden_size, output_size):\n",
        "        # Initialize weights and biases\n",
        "        self.weights_input_hidden = np.random.randn(input_size, hidden_size)\n",
        "        self.bias_hidden = np.zeros((1, hidden_size))\n",
        "        self.weights_hidden_output = np.random.randn(hidden_size, output_size)\n",
        "        self.bias_output = np.zeros((1, output_size))\n",
        "\n",
        "    def forward(self, X, activation_hidden, activation_output):\n",
        "        # Forward pass\n",
        "        self.hidden_input = np.dot(X, self.weights_input_hidden) + self.bias_hidden\n",
        "        self.hidden_output = activation_hidden(self.hidden_input)\n",
        "        self.output = activation_output(np.dot(self.hidden_output, self.weights_hidden_output) + self.bias_output)\n",
        "        return self.output\n",
        "\n",
        "    def backward(self, X, y, learning_rate, derivative_hidden, derivative_output):\n",
        "        # Backward pass\n",
        "        error_output = y - self.output\n",
        "        delta_output = error_output * derivative_output(self.output)\n",
        "        error_hidden = delta_output.dot(self.weights_hidden_output.T)\n",
        "        delta_hidden = error_hidden * derivative_hidden(self.hidden_output)\n",
        "\n",
        "        # Update weights and biases\n",
        "        self.weights_hidden_output += self.hidden_output.T.dot(delta_output) * learning_rate\n",
        "        self.bias_output += np.sum(delta_output, axis=0, keepdims=True) * learning_rate\n",
        "        self.weights_input_hidden += X.T.dot(delta_hidden) * learning_rate\n",
        "        self.bias_hidden += np.sum(delta_hidden, axis=0, keepdims=True) * learning_rate\n",
        "\n",
        "    def train(self, X, y, epochs, learning_rate, activation_hidden, activation_output, derivative_hidden, derivative_output):\n",
        "        for epoch in range(epochs):\n",
        "            output = self.forward(X, activation_hidden, activation_output)\n",
        "            self.backward(X, y, learning_rate, derivative_hidden, derivative_output)\n"
      ],
      "metadata": {
        "id": "iOxyg93lkew6"
      },
      "execution_count": 298,
      "outputs": []
    },
    {
      "cell_type": "code",
      "source": [
        "# Initialize the neural network\n",
        "input_size = X.shape[1]\n",
        "hidden_size = 3  # Experiment with different numbers of neurons\n",
        "output_size = 1"
      ],
      "metadata": {
        "id": "FWs2iiIKkkvq"
      },
      "execution_count": 299,
      "outputs": []
    },
    {
      "cell_type": "code",
      "source": [
        "# Train the neural network with different activation functions\n",
        "activation_functions = [sigmoid, tanh, relu, leaky_relu, param_relu, softmax]"
      ],
      "metadata": {
        "id": "6E-NRGTqktYX"
      },
      "execution_count": 300,
      "outputs": []
    },
    {
      "cell_type": "code",
      "source": [
        "best_accuracy = 0.0\n",
        "best_activation_functions = None\n"
      ],
      "metadata": {
        "id": "oni03Qkfog5F"
      },
      "execution_count": 301,
      "outputs": []
    },
    {
      "cell_type": "code",
      "source": [
        "for activation_function in activation_functions:\n",
        "    # Initialize the neural network\n",
        "    neural_network = NeuralNetwork(input_size, hidden_size, output_size)\n",
        "\n",
        "    # Train the neural network\n",
        "    neural_network.train(X_train, Y_train, epochs=1000, learning_rate=0.0001,  # Smaller learning rate\n",
        "                         activation_hidden=activation_function, activation_output=activation_function,\n",
        "                         derivative_hidden=relu_derivative, derivative_output=sigmoid_derivative)\n",
        "\n",
        "    # Evaluate the model on the test set\n",
        "    predictions = neural_network.forward(X_test, activation_function, activation_function)\n",
        "    accuracy = np.mean((predictions > 0.5) == Y_test)\n",
        "    print(f\"Activation Function: {activation_function.__name__}, Accuracy: {accuracy}\")\n",
        "\n",
        "    # Update best accuracy and activation function\n",
        "    if accuracy > best_accuracy:\n",
        "        best_accuracy = accuracy\n",
        "        best_activation_functions = activation_function.__name__\n",
        "\n",
        "\n",
        "\n",
        "\n",
        "\n",
        "\n",
        "\n",
        "\n"
      ],
      "metadata": {
        "colab": {
          "base_uri": "https://localhost:8080/"
        },
        "id": "3XWFFDSRoiff",
        "outputId": "1829a936-bbc4-4488-94ba-1740d719d5d9"
      },
      "execution_count": 312,
      "outputs": [
        {
          "output_type": "stream",
          "name": "stdout",
          "text": [
            "Activation Function: sigmoid, Accuracy: 0.6\n",
            "Activation Function: tanh, Accuracy: 0.2\n",
            "Activation Function: relu, Accuracy: 0.2\n",
            "Activation Function: leaky_relu, Accuracy: 0.2\n"
          ]
        },
        {
          "output_type": "stream",
          "name": "stderr",
          "text": [
            "<ipython-input-298-fbb3b9cb7fed>:20: RuntimeWarning: overflow encountered in multiply\n",
            "  delta_output = error_output * derivative_output(self.output)\n"
          ]
        },
        {
          "output_type": "stream",
          "name": "stdout",
          "text": [
            "Activation Function: param_relu, Accuracy: 0.2\n",
            "Activation Function: softmax, Accuracy: 0.2\n"
          ]
        }
      ]
    },
    {
      "cell_type": "code",
      "source": [],
      "metadata": {
        "id": "9ZXsfD7nEuht"
      },
      "execution_count": 209,
      "outputs": []
    }
  ]
}